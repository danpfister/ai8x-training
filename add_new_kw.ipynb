{
 "cells": [
  {
   "cell_type": "code",
   "execution_count": 1,
   "metadata": {},
   "outputs": [],
   "source": [
    "import os\n",
    "import random"
   ]
  },
  {
   "cell_type": "code",
   "execution_count": 2,
   "metadata": {},
   "outputs": [],
   "source": [
    "raw_folder = r'C:\\Users\\Daniel\\Github\\ai8x-training\\data\\KWS\\raw'\n",
    "added_speech = ['red', 'green', 'blue'] # new keywords"
   ]
  },
  {
   "cell_type": "code",
   "execution_count": 3,
   "metadata": {},
   "outputs": [
    {
     "name": "stdout",
     "output_type": "stream",
     "text": [
      "label backward has 1664 elements\n",
      "label bed has 2014 elements\n",
      "label bird has 2064 elements\n",
      "label blue has 1045 elements\n",
      "label cat has 2031 elements\n",
      "label dog has 2128 elements\n",
      "label down has 3917 elements\n",
      "label eight has 3787 elements\n",
      "label five has 4052 elements\n",
      "label follow has 1579 elements\n",
      "label forward has 1557 elements\n",
      "label four has 3728 elements\n",
      "label go has 3880 elements\n",
      "label green has 932 elements\n",
      "label happy has 2054 elements\n",
      "label house has 2113 elements\n",
      "label learn has 1575 elements\n",
      "label left has 3801 elements\n",
      "label librispeech has 20622 elements\n",
      "label marvin has 2100 elements\n",
      "label nine has 3934 elements\n",
      "label no has 3941 elements\n",
      "label off has 3745 elements\n",
      "label on has 3845 elements\n",
      "label one has 3890 elements\n",
      "label red has 960 elements\n",
      "label right has 3778 elements\n",
      "label seven has 3998 elements\n",
      "label sheila has 2022 elements\n",
      "label six has 3860 elements\n",
      "label stop has 3872 elements\n",
      "label three has 3727 elements\n",
      "label tree has 1759 elements\n",
      "label two has 3880 elements\n",
      "label up has 3723 elements\n",
      "label visual has 1592 elements\n",
      "label wow has 2123 elements\n",
      "label yes has 4044 elements\n",
      "label zero has 4052 elements\n",
      "label _background_noise_ has 7 elements\n"
     ]
    }
   ],
   "source": [
    "for label in os.listdir(raw_folder):\n",
    "    if not os.path.isdir(os.path.join(raw_folder, label)): continue\n",
    "    print(f\"label {label} has {len(os.listdir(os.path.join(raw_folder, label)))} elements\")"
   ]
  },
  {
   "cell_type": "code",
   "execution_count": 4,
   "metadata": {},
   "outputs": [
    {
     "name": "stdout",
     "output_type": "stream",
     "text": [
      "adding 100 elements to test and val, each\n"
     ]
    }
   ],
   "source": [
    "added_testing = []\n",
    "added_validation = []\n",
    "\n",
    "split_index = 100\n",
    "print(f\"adding {split_index} elements to test and val, each\")\n",
    "\n",
    "for label in added_speech:\n",
    "    wav_files = os.listdir(os.path.join(raw_folder, label))\n",
    "    random.shuffle(wav_files)\n",
    "    test_files = wav_files[:split_index] # 80 elements to test\n",
    "    test_files = [label + '/' + wav + '\\n' for wav in test_files]\n",
    "    added_testing.extend(test_files)\n",
    "    val_files = wav_files[split_index:2*split_index] # 80 elements to validate\n",
    "    val_files = [label + '/' + wav + '\\n' for wav in val_files]\n",
    "    added_validation.extend(val_files)  \n",
    "    \n",
    "    "
   ]
  },
  {
   "cell_type": "code",
   "execution_count": 5,
   "metadata": {},
   "outputs": [
    {
     "name": "stdout",
     "output_type": "stream",
     "text": [
      "added elements to testing set\n",
      "added elements to validation set\n"
     ]
    }
   ],
   "source": [
    "with open(r'C:\\Users\\Daniel\\Github\\ai8x-training\\data\\KWS\\raw\\testing_list.txt', 'a') as f:\n",
    "    f.writelines(added_testing)\n",
    "    print(f\"added elements to testing set\")\n",
    "    \n",
    "with open(r'C:\\Users\\Daniel\\Github\\ai8x-training\\data\\KWS\\raw\\validation_list.txt', 'a') as f:\n",
    "    f.writelines(added_validation)\n",
    "    print(f\"added elements to validation set\")"
   ]
  },
  {
   "cell_type": "code",
   "execution_count": null,
   "metadata": {},
   "outputs": [],
   "source": []
  }
 ],
 "metadata": {
  "kernelspec": {
   "display_name": "ai8x-training",
   "language": "python",
   "name": "python3"
  },
  "language_info": {
   "codemirror_mode": {
    "name": "ipython",
    "version": 3
   },
   "file_extension": ".py",
   "mimetype": "text/x-python",
   "name": "python",
   "nbconvert_exporter": "python",
   "pygments_lexer": "ipython3",
   "version": "3.8.10"
  }
 },
 "nbformat": 4,
 "nbformat_minor": 2
}
